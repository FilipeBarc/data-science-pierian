{
 "cells": [
  {
   "cell_type": "markdown",
   "metadata": {},
   "source": [
    "Full official tutorial available here: https://www.tensorflow.org/tensorboard/get_started\n",
    "\n",
    "## Data"
   ]
  },
  {
   "cell_type": "code",
   "execution_count": 1,
   "metadata": {},
   "outputs": [],
   "source": [
    "import pandas as pd\n",
    "import numpy as np"
   ]
  },
  {
   "cell_type": "code",
   "execution_count": 2,
   "metadata": {},
   "outputs": [],
   "source": [
    "df = pd.read_csv('../DATA/cancer_classification.csv')"
   ]
  },
  {
   "cell_type": "markdown",
   "metadata": {},
   "source": [
    "### Train Test Split"
   ]
  },
  {
   "cell_type": "code",
   "execution_count": 3,
   "metadata": {},
   "outputs": [],
   "source": [
    "X = df.drop('benign_0__mal_1',axis=1).values\n",
    "y = df['benign_0__mal_1'].values"
   ]
  },
  {
   "cell_type": "code",
   "execution_count": 4,
   "metadata": {},
   "outputs": [],
   "source": [
    "from sklearn.model_selection import train_test_split"
   ]
  },
  {
   "cell_type": "code",
   "execution_count": 5,
   "metadata": {},
   "outputs": [],
   "source": [
    "X_train, X_test, y_train, y_test = train_test_split(X,y,test_size=0.25,random_state=101)"
   ]
  },
  {
   "cell_type": "markdown",
   "metadata": {},
   "source": [
    "\n",
    "### Scaling Data"
   ]
  },
  {
   "cell_type": "code",
   "execution_count": 6,
   "metadata": {},
   "outputs": [],
   "source": [
    "from sklearn.preprocessing import MinMaxScaler"
   ]
  },
  {
   "cell_type": "code",
   "execution_count": 7,
   "metadata": {},
   "outputs": [],
   "source": [
    "scaler = MinMaxScaler()"
   ]
  },
  {
   "cell_type": "code",
   "execution_count": 8,
   "metadata": {},
   "outputs": [
    {
     "data": {
      "text/html": [
       "<style>#sk-container-id-1 {color: black;background-color: white;}#sk-container-id-1 pre{padding: 0;}#sk-container-id-1 div.sk-toggleable {background-color: white;}#sk-container-id-1 label.sk-toggleable__label {cursor: pointer;display: block;width: 100%;margin-bottom: 0;padding: 0.3em;box-sizing: border-box;text-align: center;}#sk-container-id-1 label.sk-toggleable__label-arrow:before {content: \"▸\";float: left;margin-right: 0.25em;color: #696969;}#sk-container-id-1 label.sk-toggleable__label-arrow:hover:before {color: black;}#sk-container-id-1 div.sk-estimator:hover label.sk-toggleable__label-arrow:before {color: black;}#sk-container-id-1 div.sk-toggleable__content {max-height: 0;max-width: 0;overflow: hidden;text-align: left;background-color: #f0f8ff;}#sk-container-id-1 div.sk-toggleable__content pre {margin: 0.2em;color: black;border-radius: 0.25em;background-color: #f0f8ff;}#sk-container-id-1 input.sk-toggleable__control:checked~div.sk-toggleable__content {max-height: 200px;max-width: 100%;overflow: auto;}#sk-container-id-1 input.sk-toggleable__control:checked~label.sk-toggleable__label-arrow:before {content: \"▾\";}#sk-container-id-1 div.sk-estimator input.sk-toggleable__control:checked~label.sk-toggleable__label {background-color: #d4ebff;}#sk-container-id-1 div.sk-label input.sk-toggleable__control:checked~label.sk-toggleable__label {background-color: #d4ebff;}#sk-container-id-1 input.sk-hidden--visually {border: 0;clip: rect(1px 1px 1px 1px);clip: rect(1px, 1px, 1px, 1px);height: 1px;margin: -1px;overflow: hidden;padding: 0;position: absolute;width: 1px;}#sk-container-id-1 div.sk-estimator {font-family: monospace;background-color: #f0f8ff;border: 1px dotted black;border-radius: 0.25em;box-sizing: border-box;margin-bottom: 0.5em;}#sk-container-id-1 div.sk-estimator:hover {background-color: #d4ebff;}#sk-container-id-1 div.sk-parallel-item::after {content: \"\";width: 100%;border-bottom: 1px solid gray;flex-grow: 1;}#sk-container-id-1 div.sk-label:hover label.sk-toggleable__label {background-color: #d4ebff;}#sk-container-id-1 div.sk-serial::before {content: \"\";position: absolute;border-left: 1px solid gray;box-sizing: border-box;top: 0;bottom: 0;left: 50%;z-index: 0;}#sk-container-id-1 div.sk-serial {display: flex;flex-direction: column;align-items: center;background-color: white;padding-right: 0.2em;padding-left: 0.2em;position: relative;}#sk-container-id-1 div.sk-item {position: relative;z-index: 1;}#sk-container-id-1 div.sk-parallel {display: flex;align-items: stretch;justify-content: center;background-color: white;position: relative;}#sk-container-id-1 div.sk-item::before, #sk-container-id-1 div.sk-parallel-item::before {content: \"\";position: absolute;border-left: 1px solid gray;box-sizing: border-box;top: 0;bottom: 0;left: 50%;z-index: -1;}#sk-container-id-1 div.sk-parallel-item {display: flex;flex-direction: column;z-index: 1;position: relative;background-color: white;}#sk-container-id-1 div.sk-parallel-item:first-child::after {align-self: flex-end;width: 50%;}#sk-container-id-1 div.sk-parallel-item:last-child::after {align-self: flex-start;width: 50%;}#sk-container-id-1 div.sk-parallel-item:only-child::after {width: 0;}#sk-container-id-1 div.sk-dashed-wrapped {border: 1px dashed gray;margin: 0 0.4em 0.5em 0.4em;box-sizing: border-box;padding-bottom: 0.4em;background-color: white;}#sk-container-id-1 div.sk-label label {font-family: monospace;font-weight: bold;display: inline-block;line-height: 1.2em;}#sk-container-id-1 div.sk-label-container {text-align: center;}#sk-container-id-1 div.sk-container {/* jupyter's `normalize.less` sets `[hidden] { display: none; }` but bootstrap.min.css set `[hidden] { display: none !important; }` so we also need the `!important` here to be able to override the default hidden behavior on the sphinx rendered scikit-learn.org. See: https://github.com/scikit-learn/scikit-learn/issues/21755 */display: inline-block !important;position: relative;}#sk-container-id-1 div.sk-text-repr-fallback {display: none;}</style><div id=\"sk-container-id-1\" class=\"sk-top-container\"><div class=\"sk-text-repr-fallback\"><pre>MinMaxScaler()</pre><b>In a Jupyter environment, please rerun this cell to show the HTML representation or trust the notebook. <br />On GitHub, the HTML representation is unable to render, please try loading this page with nbviewer.org.</b></div><div class=\"sk-container\" hidden><div class=\"sk-item\"><div class=\"sk-estimator sk-toggleable\"><input class=\"sk-toggleable__control sk-hidden--visually\" id=\"sk-estimator-id-1\" type=\"checkbox\" checked><label for=\"sk-estimator-id-1\" class=\"sk-toggleable__label sk-toggleable__label-arrow\">MinMaxScaler</label><div class=\"sk-toggleable__content\"><pre>MinMaxScaler()</pre></div></div></div></div></div>"
      ],
      "text/plain": [
       "MinMaxScaler()"
      ]
     },
     "execution_count": 8,
     "metadata": {},
     "output_type": "execute_result"
    }
   ],
   "source": [
    "scaler.fit(X_train)"
   ]
  },
  {
   "cell_type": "code",
   "execution_count": 9,
   "metadata": {},
   "outputs": [],
   "source": [
    "X_train = scaler.transform(X_train)\n",
    "X_test = scaler.transform(X_test)"
   ]
  },
  {
   "cell_type": "markdown",
   "metadata": {},
   "source": [
    "## Creating the Model"
   ]
  },
  {
   "cell_type": "code",
   "execution_count": 10,
   "metadata": {},
   "outputs": [
    {
     "name": "stderr",
     "output_type": "stream",
     "text": [
      "2023-06-26 16:22:17.244735: I tensorflow/core/platform/cpu_feature_guard.cc:193] This TensorFlow binary is optimized with oneAPI Deep Neural Network Library (oneDNN) to use the following CPU instructions in performance-critical operations:  SSE4.1 SSE4.2 AVX AVX2 FMA\n",
      "To enable them in other operations, rebuild TensorFlow with the appropriate compiler flags.\n"
     ]
    }
   ],
   "source": [
    "import tensorflow as tf\n",
    "from tensorflow.keras.models import Sequential\n",
    "from tensorflow.keras.layers import Dense, Activation,Dropout"
   ]
  },
  {
   "cell_type": "code",
   "execution_count": 11,
   "metadata": {},
   "outputs": [],
   "source": [
    "from tensorflow.keras.callbacks import EarlyStopping,TensorBoard"
   ]
  },
  {
   "cell_type": "code",
   "execution_count": 12,
   "metadata": {},
   "outputs": [],
   "source": [
    "early_stop = EarlyStopping(monitor='val_loss', mode='min', verbose=1, patience=25)"
   ]
  },
  {
   "cell_type": "code",
   "execution_count": 13,
   "metadata": {},
   "outputs": [
    {
     "data": {
      "text/plain": [
       "'/Users/filipebarcellos/Desktop/Courses/Data Science/TensorFlow_FILES/ANNs'"
      ]
     },
     "execution_count": 13,
     "metadata": {},
     "output_type": "execute_result"
    }
   ],
   "source": [
    "pwd"
   ]
  },
  {
   "cell_type": "markdown",
   "metadata": {},
   "source": [
    "## Creating the Tensorboard Callback\n",
    "\n",
    "TensorBoard is a visualization tool provided with TensorFlow.\n",
    "\n",
    "This callback logs events for TensorBoard, including:\n",
    "* Metrics summary plots\n",
    "* Training graph visualization\n",
    "* Activation histograms\n",
    "* Sampled profiling\n",
    "\n",
    "If you have installed TensorFlow with pip, you should be able\n",
    "to launch TensorBoard from the command line:\n",
    "\n",
    "```sh\n",
    "tensorboard --logdir=path_to_your_logs\n",
    "```\n",
    "\n",
    "You can find more information about TensorBoard\n",
    "[here](https://www.tensorflow.org/tensorboard/).\n",
    "\n",
    "    Arguments:\n",
    "        log_dir: the path of the directory where to save the log files to be\n",
    "          parsed by TensorBoard.\n",
    "        histogram_freq: frequency (in epochs) at which to compute activation and\n",
    "          weight histograms for the layers of the model. If set to 0, histograms\n",
    "          won't be computed. Validation data (or split) must be specified for\n",
    "          histogram visualizations.\n",
    "        write_graph: whether to visualize the graph in TensorBoard. The log file\n",
    "          can become quite large when write_graph is set to True.\n",
    "        write_images: whether to write model weights to visualize as image in\n",
    "          TensorBoard.\n",
    "        update_freq: `'batch'` or `'epoch'` or integer. When using `'batch'`,\n",
    "          writes the losses and metrics to TensorBoard after each batch. The same\n",
    "          applies for `'epoch'`. If using an integer, let's say `1000`, the\n",
    "          callback will write the metrics and losses to TensorBoard every 1000\n",
    "          samples. Note that writing too frequently to TensorBoard can slow down\n",
    "          your training.\n",
    "        profile_batch: Profile the batch to sample compute characteristics. By\n",
    "          default, it will profile the second batch. Set profile_batch=0 to\n",
    "          disable profiling. Must run in TensorFlow eager mode.\n",
    "        embeddings_freq: frequency (in epochs) at which embedding layers will\n",
    "          be visualized. If set to 0, embeddings won't be visualized.\n",
    "       "
   ]
  },
  {
   "cell_type": "code",
   "execution_count": 14,
   "metadata": {},
   "outputs": [],
   "source": [
    "from datetime import datetime"
   ]
  },
  {
   "cell_type": "code",
   "execution_count": 15,
   "metadata": {},
   "outputs": [
    {
     "data": {
      "text/plain": [
       "'2023-06-26--1625'"
      ]
     },
     "execution_count": 15,
     "metadata": {},
     "output_type": "execute_result"
    }
   ],
   "source": [
    "datetime.now().strftime(\"%Y-%m-%d--%H%M\")"
   ]
  },
  {
   "cell_type": "code",
   "execution_count": 19,
   "metadata": {},
   "outputs": [
    {
     "name": "stderr",
     "output_type": "stream",
     "text": [
      "2023-06-26 16:28:16.925431: I tensorflow/core/profiler/lib/profiler_session.cc:101] Profiler session initializing.\n",
      "2023-06-26 16:28:16.925469: I tensorflow/core/profiler/lib/profiler_session.cc:116] Profiler session started.\n",
      "2023-06-26 16:28:16.929189: I tensorflow/core/profiler/lib/profiler_session.cc:128] Profiler session tear down.\n"
     ]
    }
   ],
   "source": [
    "# WINDOWS: Use \"logs\\\\fit\"\n",
    "# MACOS/LINUX: Use \"logs\\fit\"\n",
    "\n",
    "log_directory = 'logs/fit'\n",
    "\n",
    "# OPTIONAL: ADD A TIMESTAMP FOR UNIQUE FOLDER\n",
    "# timestamp = datetime.now().strftime(\"%Y-%m-%d--%H%M\")\n",
    "# log_directory = log_directory + '\\\\' + timestamp\n",
    "\n",
    "\n",
    "board = TensorBoard(log_dir=log_directory,histogram_freq=1,\n",
    "    write_graph=True,\n",
    "    write_images=True,\n",
    "    update_freq='epoch',\n",
    "    profile_batch=2,\n",
    "    embeddings_freq=1)"
   ]
  },
  {
   "cell_type": "markdown",
   "metadata": {},
   "source": [
    "Now create the model layers:"
   ]
  },
  {
   "cell_type": "code",
   "execution_count": 20,
   "metadata": {},
   "outputs": [
    {
     "name": "stderr",
     "output_type": "stream",
     "text": [
      "2023-06-26 16:29:16.480774: I tensorflow/core/platform/cpu_feature_guard.cc:193] This TensorFlow binary is optimized with oneAPI Deep Neural Network Library (oneDNN) to use the following CPU instructions in performance-critical operations:  SSE4.1 SSE4.2 AVX AVX2 FMA\n",
      "To enable them in other operations, rebuild TensorFlow with the appropriate compiler flags.\n"
     ]
    }
   ],
   "source": [
    "model = Sequential()\n",
    "model.add(Dense(units=30,activation='relu'))\n",
    "model.add(Dropout(0.5))\n",
    "model.add(Dense(units=15,activation='relu'))\n",
    "model.add(Dropout(0.5))\n",
    "model.add(Dense(units=1,activation='sigmoid'))\n",
    "model.compile(loss='binary_crossentropy', optimizer='adam')"
   ]
  },
  {
   "cell_type": "markdown",
   "metadata": {},
   "source": [
    "## Train the Model"
   ]
  },
  {
   "cell_type": "code",
   "execution_count": 21,
   "metadata": {},
   "outputs": [
    {
     "name": "stdout",
     "output_type": "stream",
     "text": [
      "Epoch 1/600\n",
      " 2/14 [===>..........................] - ETA: 2s - loss: 0.6631 "
     ]
    },
    {
     "name": "stderr",
     "output_type": "stream",
     "text": [
      "2023-06-26 16:29:23.654251: I tensorflow/core/profiler/lib/profiler_session.cc:101] Profiler session initializing.\n",
      "2023-06-26 16:29:23.654292: I tensorflow/core/profiler/lib/profiler_session.cc:116] Profiler session started.\n",
      "2023-06-26 16:29:23.673434: I tensorflow/core/profiler/lib/profiler_session.cc:67] Profiler session collecting data.\n",
      "2023-06-26 16:29:23.706376: I tensorflow/core/profiler/lib/profiler_session.cc:128] Profiler session tear down.\n",
      "2023-06-26 16:29:23.759584: I tensorflow/core/profiler/rpc/client/save_profile.cc:136] Creating directory: logs/fit/plugins/profile/2023_06_26_16_29_23\n",
      "\n",
      "2023-06-26 16:29:23.766717: I tensorflow/core/profiler/rpc/client/save_profile.cc:142] Dumped gzipped tool data for trace.json.gz to logs/fit/plugins/profile/2023_06_26_16_29_23/Filipes-MacBook-Air.local.trace.json.gz\n",
      "2023-06-26 16:29:23.841070: I tensorflow/core/profiler/rpc/client/save_profile.cc:136] Creating directory: logs/fit/plugins/profile/2023_06_26_16_29_23\n",
      "\n",
      "2023-06-26 16:29:23.841711: I tensorflow/core/profiler/rpc/client/save_profile.cc:142] Dumped gzipped tool data for memory_profile.json.gz to logs/fit/plugins/profile/2023_06_26_16_29_23/Filipes-MacBook-Air.local.memory_profile.json.gz\n",
      "2023-06-26 16:29:23.844057: I tensorflow/core/profiler/rpc/client/capture_profile.cc:251] Creating directory: logs/fit/plugins/profile/2023_06_26_16_29_23\n",
      "Dumped tool data for xplane.pb to logs/fit/plugins/profile/2023_06_26_16_29_23/Filipes-MacBook-Air.local.xplane.pb\n",
      "Dumped tool data for overview_page.pb to logs/fit/plugins/profile/2023_06_26_16_29_23/Filipes-MacBook-Air.local.overview_page.pb\n",
      "Dumped tool data for input_pipeline.pb to logs/fit/plugins/profile/2023_06_26_16_29_23/Filipes-MacBook-Air.local.input_pipeline.pb\n",
      "Dumped tool data for tensorflow_stats.pb to logs/fit/plugins/profile/2023_06_26_16_29_23/Filipes-MacBook-Air.local.tensorflow_stats.pb\n",
      "Dumped tool data for kernel_stats.pb to logs/fit/plugins/profile/2023_06_26_16_29_23/Filipes-MacBook-Air.local.kernel_stats.pb\n",
      "\n"
     ]
    },
    {
     "name": "stdout",
     "output_type": "stream",
     "text": [
      "14/14 [==============================] - 2s 85ms/step - loss: 0.6835 - val_loss: 0.6704\n",
      "Epoch 2/600\n",
      "14/14 [==============================] - 0s 17ms/step - loss: 0.6696 - val_loss: 0.6413\n",
      "Epoch 3/600\n",
      "14/14 [==============================] - 0s 27ms/step - loss: 0.6432 - val_loss: 0.6177\n",
      "Epoch 4/600\n",
      "14/14 [==============================] - 0s 24ms/step - loss: 0.6133 - val_loss: 0.5913\n",
      "Epoch 5/600\n",
      "14/14 [==============================] - 0s 29ms/step - loss: 0.6116 - val_loss: 0.5638\n",
      "Epoch 6/600\n",
      "14/14 [==============================] - 0s 24ms/step - loss: 0.5760 - val_loss: 0.5378\n",
      "Epoch 7/600\n",
      "14/14 [==============================] - 0s 35ms/step - loss: 0.5717 - val_loss: 0.5124\n",
      "Epoch 8/600\n",
      "14/14 [==============================] - 0s 17ms/step - loss: 0.5558 - val_loss: 0.4848\n",
      "Epoch 9/600\n",
      "14/14 [==============================] - 0s 23ms/step - loss: 0.5426 - val_loss: 0.4605\n",
      "Epoch 10/600\n",
      "14/14 [==============================] - 0s 28ms/step - loss: 0.4804 - val_loss: 0.4330\n",
      "Epoch 11/600\n",
      "14/14 [==============================] - 0s 21ms/step - loss: 0.4631 - val_loss: 0.4041\n",
      "Epoch 12/600\n",
      "14/14 [==============================] - 1s 51ms/step - loss: 0.4597 - val_loss: 0.3779\n",
      "Epoch 13/600\n",
      "14/14 [==============================] - 0s 17ms/step - loss: 0.4440 - val_loss: 0.3569\n",
      "Epoch 14/600\n",
      "14/14 [==============================] - 0s 16ms/step - loss: 0.4021 - val_loss: 0.3336\n",
      "Epoch 15/600\n",
      "14/14 [==============================] - 0s 16ms/step - loss: 0.4015 - val_loss: 0.3145\n",
      "Epoch 16/600\n",
      "14/14 [==============================] - 0s 18ms/step - loss: 0.3943 - val_loss: 0.2979\n",
      "Epoch 17/600\n",
      "14/14 [==============================] - 0s 34ms/step - loss: 0.3810 - val_loss: 0.2858\n",
      "Epoch 18/600\n",
      "14/14 [==============================] - 0s 33ms/step - loss: 0.3608 - val_loss: 0.2704\n",
      "Epoch 19/600\n",
      "14/14 [==============================] - 0s 21ms/step - loss: 0.3494 - val_loss: 0.2653\n",
      "Epoch 20/600\n",
      "14/14 [==============================] - 0s 20ms/step - loss: 0.3371 - val_loss: 0.2478\n",
      "Epoch 21/600\n",
      "14/14 [==============================] - 0s 26ms/step - loss: 0.3384 - val_loss: 0.2480\n",
      "Epoch 22/600\n",
      "14/14 [==============================] - 0s 23ms/step - loss: 0.3143 - val_loss: 0.2347\n",
      "Epoch 23/600\n",
      "14/14 [==============================] - 0s 30ms/step - loss: 0.2882 - val_loss: 0.2107\n",
      "Epoch 24/600\n",
      "14/14 [==============================] - 0s 23ms/step - loss: 0.3075 - val_loss: 0.2039\n",
      "Epoch 25/600\n",
      "14/14 [==============================] - 0s 24ms/step - loss: 0.2904 - val_loss: 0.2022\n",
      "Epoch 26/600\n",
      "14/14 [==============================] - 0s 18ms/step - loss: 0.2794 - val_loss: 0.1920\n",
      "Epoch 27/600\n",
      "14/14 [==============================] - 0s 14ms/step - loss: 0.2717 - val_loss: 0.1870\n",
      "Epoch 28/600\n",
      "14/14 [==============================] - 0s 25ms/step - loss: 0.2698 - val_loss: 0.1789\n",
      "Epoch 29/600\n",
      "14/14 [==============================] - 0s 21ms/step - loss: 0.2464 - val_loss: 0.1735\n",
      "Epoch 30/600\n",
      "14/14 [==============================] - 0s 38ms/step - loss: 0.2431 - val_loss: 0.1618\n",
      "Epoch 31/600\n",
      "14/14 [==============================] - 0s 34ms/step - loss: 0.2489 - val_loss: 0.1633\n",
      "Epoch 32/600\n",
      "14/14 [==============================] - 0s 21ms/step - loss: 0.2439 - val_loss: 0.1601\n",
      "Epoch 33/600\n",
      "14/14 [==============================] - 0s 25ms/step - loss: 0.2374 - val_loss: 0.1500\n",
      "Epoch 34/600\n",
      "14/14 [==============================] - 0s 19ms/step - loss: 0.2362 - val_loss: 0.1493\n",
      "Epoch 35/600\n",
      "14/14 [==============================] - 0s 20ms/step - loss: 0.2174 - val_loss: 0.1440\n",
      "Epoch 36/600\n",
      "14/14 [==============================] - 0s 13ms/step - loss: 0.2127 - val_loss: 0.1405\n",
      "Epoch 37/600\n",
      "14/14 [==============================] - 0s 19ms/step - loss: 0.2037 - val_loss: 0.1536\n",
      "Epoch 38/600\n",
      "14/14 [==============================] - 0s 16ms/step - loss: 0.2030 - val_loss: 0.1351\n",
      "Epoch 39/600\n",
      "14/14 [==============================] - 0s 19ms/step - loss: 0.1956 - val_loss: 0.1401\n",
      "Epoch 40/600\n",
      "14/14 [==============================] - 0s 19ms/step - loss: 0.2051 - val_loss: 0.1304\n",
      "Epoch 41/600\n",
      "14/14 [==============================] - 0s 34ms/step - loss: 0.2149 - val_loss: 0.1321\n",
      "Epoch 42/600\n",
      "14/14 [==============================] - 0s 24ms/step - loss: 0.1884 - val_loss: 0.1256\n",
      "Epoch 43/600\n",
      "14/14 [==============================] - 0s 23ms/step - loss: 0.1734 - val_loss: 0.1271\n",
      "Epoch 44/600\n",
      "14/14 [==============================] - 0s 26ms/step - loss: 0.2018 - val_loss: 0.1247\n",
      "Epoch 45/600\n",
      "14/14 [==============================] - 1s 40ms/step - loss: 0.1663 - val_loss: 0.1191\n",
      "Epoch 46/600\n",
      "14/14 [==============================] - 0s 32ms/step - loss: 0.1987 - val_loss: 0.1250\n",
      "Epoch 47/600\n",
      "14/14 [==============================] - 0s 31ms/step - loss: 0.1651 - val_loss: 0.1209\n",
      "Epoch 48/600\n",
      "14/14 [==============================] - 0s 33ms/step - loss: 0.1725 - val_loss: 0.1175\n",
      "Epoch 49/600\n",
      "14/14 [==============================] - 0s 34ms/step - loss: 0.1714 - val_loss: 0.1118\n",
      "Epoch 50/600\n",
      "14/14 [==============================] - 0s 24ms/step - loss: 0.1626 - val_loss: 0.1117\n",
      "Epoch 51/600\n",
      "14/14 [==============================] - 0s 24ms/step - loss: 0.1656 - val_loss: 0.1087\n",
      "Epoch 52/600\n",
      "14/14 [==============================] - 0s 25ms/step - loss: 0.1438 - val_loss: 0.1184\n",
      "Epoch 53/600\n",
      "14/14 [==============================] - 0s 27ms/step - loss: 0.1522 - val_loss: 0.1045\n",
      "Epoch 54/600\n",
      "14/14 [==============================] - 0s 26ms/step - loss: 0.1802 - val_loss: 0.1038\n",
      "Epoch 55/600\n",
      "14/14 [==============================] - 0s 23ms/step - loss: 0.1447 - val_loss: 0.1112\n",
      "Epoch 56/600\n",
      "14/14 [==============================] - 0s 17ms/step - loss: 0.1430 - val_loss: 0.1045\n",
      "Epoch 57/600\n",
      "14/14 [==============================] - 0s 36ms/step - loss: 0.1289 - val_loss: 0.1040\n",
      "Epoch 58/600\n",
      "14/14 [==============================] - 0s 36ms/step - loss: 0.1655 - val_loss: 0.1017\n",
      "Epoch 59/600\n",
      "14/14 [==============================] - 1s 38ms/step - loss: 0.1615 - val_loss: 0.1005\n",
      "Epoch 60/600\n",
      "14/14 [==============================] - 0s 34ms/step - loss: 0.1364 - val_loss: 0.1033\n",
      "Epoch 61/600\n",
      "14/14 [==============================] - 0s 31ms/step - loss: 0.1463 - val_loss: 0.1091\n",
      "Epoch 62/600\n",
      "14/14 [==============================] - 0s 33ms/step - loss: 0.1316 - val_loss: 0.1015\n",
      "Epoch 63/600\n",
      "14/14 [==============================] - 0s 33ms/step - loss: 0.1255 - val_loss: 0.1012\n",
      "Epoch 64/600\n",
      "14/14 [==============================] - 0s 22ms/step - loss: 0.1424 - val_loss: 0.0980\n",
      "Epoch 65/600\n",
      "14/14 [==============================] - 1s 43ms/step - loss: 0.1328 - val_loss: 0.0957\n",
      "Epoch 66/600\n",
      "14/14 [==============================] - 1s 40ms/step - loss: 0.1220 - val_loss: 0.1050\n",
      "Epoch 67/600\n",
      "14/14 [==============================] - 0s 13ms/step - loss: 0.1477 - val_loss: 0.1083\n",
      "Epoch 68/600\n",
      "14/14 [==============================] - 0s 18ms/step - loss: 0.1284 - val_loss: 0.0958\n",
      "Epoch 69/600\n",
      "14/14 [==============================] - 0s 19ms/step - loss: 0.1255 - val_loss: 0.0989\n",
      "Epoch 70/600\n",
      "14/14 [==============================] - 0s 19ms/step - loss: 0.1155 - val_loss: 0.0924\n",
      "Epoch 71/600\n",
      "14/14 [==============================] - 0s 23ms/step - loss: 0.1327 - val_loss: 0.0966\n",
      "Epoch 72/600\n",
      "14/14 [==============================] - 0s 22ms/step - loss: 0.1302 - val_loss: 0.1077\n",
      "Epoch 73/600\n",
      "14/14 [==============================] - 0s 26ms/step - loss: 0.1289 - val_loss: 0.0962\n",
      "Epoch 74/600\n",
      "14/14 [==============================] - 0s 20ms/step - loss: 0.1362 - val_loss: 0.0907\n",
      "Epoch 75/600\n",
      "14/14 [==============================] - 0s 13ms/step - loss: 0.1103 - val_loss: 0.1240\n",
      "Epoch 76/600\n",
      "14/14 [==============================] - 0s 21ms/step - loss: 0.1227 - val_loss: 0.0887\n",
      "Epoch 77/600\n",
      "14/14 [==============================] - 0s 36ms/step - loss: 0.1307 - val_loss: 0.0896\n",
      "Epoch 78/600\n",
      "14/14 [==============================] - 0s 25ms/step - loss: 0.1227 - val_loss: 0.0921\n",
      "Epoch 79/600\n",
      "14/14 [==============================] - 0s 22ms/step - loss: 0.1191 - val_loss: 0.0896\n",
      "Epoch 80/600\n",
      "14/14 [==============================] - 0s 19ms/step - loss: 0.1183 - val_loss: 0.0958\n",
      "Epoch 81/600\n",
      "14/14 [==============================] - 0s 23ms/step - loss: 0.1131 - val_loss: 0.0921\n",
      "Epoch 82/600\n",
      "14/14 [==============================] - 0s 19ms/step - loss: 0.1253 - val_loss: 0.0890\n",
      "Epoch 83/600\n",
      "14/14 [==============================] - 0s 17ms/step - loss: 0.1050 - val_loss: 0.0981\n",
      "Epoch 84/600\n",
      "14/14 [==============================] - 0s 37ms/step - loss: 0.1083 - val_loss: 0.0953\n",
      "Epoch 85/600\n",
      "14/14 [==============================] - 0s 23ms/step - loss: 0.1069 - val_loss: 0.0911\n",
      "Epoch 86/600\n",
      "14/14 [==============================] - 0s 22ms/step - loss: 0.1143 - val_loss: 0.0956\n",
      "Epoch 87/600\n",
      "14/14 [==============================] - 0s 28ms/step - loss: 0.1033 - val_loss: 0.0918\n",
      "Epoch 88/600\n",
      "14/14 [==============================] - 0s 24ms/step - loss: 0.1083 - val_loss: 0.0945\n",
      "Epoch 89/600\n",
      "14/14 [==============================] - 0s 26ms/step - loss: 0.0770 - val_loss: 0.0867\n",
      "Epoch 90/600\n",
      "14/14 [==============================] - 0s 25ms/step - loss: 0.1115 - val_loss: 0.0944\n",
      "Epoch 91/600\n",
      "14/14 [==============================] - 0s 21ms/step - loss: 0.0967 - val_loss: 0.0930\n",
      "Epoch 92/600\n",
      "14/14 [==============================] - 0s 18ms/step - loss: 0.1098 - val_loss: 0.0956\n",
      "Epoch 93/600\n",
      "14/14 [==============================] - 0s 21ms/step - loss: 0.0975 - val_loss: 0.0890\n",
      "Epoch 94/600\n",
      "14/14 [==============================] - 0s 22ms/step - loss: 0.0913 - val_loss: 0.0879\n",
      "Epoch 95/600\n",
      "14/14 [==============================] - 0s 19ms/step - loss: 0.0886 - val_loss: 0.0869\n",
      "Epoch 96/600\n",
      "14/14 [==============================] - 0s 17ms/step - loss: 0.0989 - val_loss: 0.0935\n",
      "Epoch 97/600\n",
      "14/14 [==============================] - 0s 22ms/step - loss: 0.0979 - val_loss: 0.0930\n",
      "Epoch 98/600\n",
      "14/14 [==============================] - 0s 20ms/step - loss: 0.0951 - val_loss: 0.0887\n",
      "Epoch 99/600\n",
      "14/14 [==============================] - 0s 27ms/step - loss: 0.0893 - val_loss: 0.0936\n",
      "Epoch 100/600\n",
      "14/14 [==============================] - 0s 24ms/step - loss: 0.0842 - val_loss: 0.1118\n",
      "Epoch 101/600\n",
      "14/14 [==============================] - 0s 19ms/step - loss: 0.0938 - val_loss: 0.0909\n",
      "Epoch 102/600\n",
      "14/14 [==============================] - 0s 27ms/step - loss: 0.1022 - val_loss: 0.0895\n",
      "Epoch 103/600\n",
      "14/14 [==============================] - 0s 25ms/step - loss: 0.1127 - val_loss: 0.0946\n",
      "Epoch 104/600\n",
      "14/14 [==============================] - 0s 28ms/step - loss: 0.0948 - val_loss: 0.0896\n",
      "Epoch 105/600\n",
      "14/14 [==============================] - 1s 54ms/step - loss: 0.1023 - val_loss: 0.0989\n",
      "Epoch 106/600\n",
      "14/14 [==============================] - 0s 27ms/step - loss: 0.0812 - val_loss: 0.1013\n",
      "Epoch 107/600\n",
      "14/14 [==============================] - 0s 19ms/step - loss: 0.0949 - val_loss: 0.0990\n",
      "Epoch 108/600\n",
      "14/14 [==============================] - 1s 41ms/step - loss: 0.0955 - val_loss: 0.0869\n",
      "Epoch 109/600\n",
      "14/14 [==============================] - 0s 32ms/step - loss: 0.0920 - val_loss: 0.0997\n",
      "Epoch 110/600\n",
      "14/14 [==============================] - 0s 23ms/step - loss: 0.0941 - val_loss: 0.0982\n",
      "Epoch 111/600\n",
      "14/14 [==============================] - 0s 13ms/step - loss: 0.0991 - val_loss: 0.0914\n",
      "Epoch 112/600\n",
      "14/14 [==============================] - 0s 28ms/step - loss: 0.0976 - val_loss: 0.0897\n",
      "Epoch 113/600\n",
      "14/14 [==============================] - 0s 23ms/step - loss: 0.0703 - val_loss: 0.0987\n",
      "Epoch 114/600\n",
      "14/14 [==============================] - 0s 18ms/step - loss: 0.0748 - val_loss: 0.0925\n",
      "Epoch 114: early stopping\n"
     ]
    },
    {
     "data": {
      "text/plain": [
       "<keras.callbacks.History at 0x7fd9ede93a90>"
      ]
     },
     "execution_count": 21,
     "metadata": {},
     "output_type": "execute_result"
    }
   ],
   "source": [
    "model.fit(x=X_train, \n",
    "          y=y_train, \n",
    "          epochs=600,\n",
    "          validation_data=(X_test, y_test), verbose=1,\n",
    "          callbacks=[early_stop,board]\n",
    "          )"
   ]
  },
  {
   "cell_type": "markdown",
   "metadata": {},
   "source": [
    "# Running Tensorboard\n"
   ]
  },
  {
   "cell_type": "markdown",
   "metadata": {},
   "source": [
    "## Running through the Command Line\n",
    "\n",
    "**Watch video to see how to run Tensorboard through a command line call.**"
   ]
  },
  {
   "cell_type": "markdown",
   "metadata": {},
   "source": [
    "Tensorboard will run locally in your browser at [http://localhost:6006/](http://localhost:6006/)\n"
   ]
  },
  {
   "cell_type": "code",
   "execution_count": 22,
   "metadata": {},
   "outputs": [
    {
     "name": "stdout",
     "output_type": "stream",
     "text": [
      "logs/fit\n"
     ]
    }
   ],
   "source": [
    "print(log_directory)"
   ]
  },
  {
   "cell_type": "code",
   "execution_count": 23,
   "metadata": {},
   "outputs": [
    {
     "data": {
      "text/plain": [
       "'/Users/filipebarcellos/Desktop/Courses/Data Science/TensorFlow_FILES/ANNs'"
      ]
     },
     "execution_count": 23,
     "metadata": {},
     "output_type": "execute_result"
    }
   ],
   "source": [
    "pwd"
   ]
  },
  {
   "cell_type": "markdown",
   "metadata": {},
   "source": [
    "### Use cd at your command line to change directory to the file path reported back by pwd or your current .py file location.\n",
    "### Then run this code at your command line or terminal"
   ]
  },
  {
   "cell_type": "code",
   "execution_count": null,
   "metadata": {},
   "outputs": [],
   "source": [
    "tensorboard --logdir logs\\fit "
   ]
  },
  {
   "cell_type": "markdown",
   "metadata": {},
   "source": [
    "Step by step how to code on prompt"
   ]
  },
  {
   "cell_type": "markdown",
   "metadata": {},
   "source": [
    "(py3-TF2.0) filipebarcellos@Filipes-MacBook-Air ~ % cd Desktop \n",
    "\n",
    "(py3-TF2.0) filipebarcellos@Filipes-MacBook-Air Desktop % cd Courses \n",
    "\n",
    "(py3-TF2.0) filipebarcellos@Filipes-MacBook-Air Courses % cd Data\\ Science \n",
    "\n",
    "(py3-TF2.0) filipebarcellos@Filipes-MacBook-Air Data Science % cd TensorFlow_FILES \n",
    "\n",
    "(py3-TF2.0) filipebarcellos@Filipes-MacBook-Air TensorFlow_FILES % cd ANNs \n",
    "\n",
    "(py3-TF2.0) filipebarcellos@Filipes-MacBook-Air ANNs % tensorboard --logdir logs/fit\n",
    "\n",
    "2023-06-26 16:37:16.414714: I tensorflow/core/platform/cpu_feature_guard.cc:193] This TensorFlow binary is optimized with oneAPI Deep Neural Network Library (oneDNN) to use the following CPU instructions in performance-critical operations:  SSE4.1 SSE4.2 AVX AVX2 FMA\n",
    "To enable them in other operations, rebuild TensorFlow with the appropriate compiler flags.\n",
    "\n",
    "NOTE: Using experimental fast data loading logic. To disable, pass\n",
    "    \"--load_fast=false\" and report issues on GitHub. More details:\n",
    "    https://github.com/tensorflow/tensorboard/issues/4784\n",
    "\n",
    "Serving TensorBoard on localhost; to expose to the network, use a proxy or pass --bind_all\n",
    "TensorBoard 2.10.0 at http://localhost:6006/ (Press CTRL+C to quit)"
   ]
  },
  {
   "cell_type": "code",
   "execution_count": null,
   "metadata": {},
   "outputs": [],
   "source": []
  }
 ],
 "metadata": {
  "kernelspec": {
   "display_name": "Python [conda env:py3-TF2.0]",
   "language": "python",
   "name": "conda-env-py3-TF2.0-py"
  },
  "language_info": {
   "codemirror_mode": {
    "name": "ipython",
    "version": 3
   },
   "file_extension": ".py",
   "mimetype": "text/x-python",
   "name": "python",
   "nbconvert_exporter": "python",
   "pygments_lexer": "ipython3",
   "version": "3.10.10"
  }
 },
 "nbformat": 4,
 "nbformat_minor": 2
}
