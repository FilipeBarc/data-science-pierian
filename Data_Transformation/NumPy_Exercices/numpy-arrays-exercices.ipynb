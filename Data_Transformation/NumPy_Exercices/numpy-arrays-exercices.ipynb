{
 "cells": [
  {
   "cell_type": "code",
   "execution_count": 1,
   "id": "b87d95aa",
   "metadata": {},
   "outputs": [],
   "source": [
    "import numpy as np"
   ]
  },
  {
   "cell_type": "code",
   "execution_count": 2,
   "id": "e6b45515",
   "metadata": {},
   "outputs": [],
   "source": [
    "my_list = [1,2,3]"
   ]
  },
  {
   "cell_type": "code",
   "execution_count": 3,
   "id": "f7aaf589",
   "metadata": {},
   "outputs": [
    {
     "data": {
      "text/plain": [
       "array([1, 2, 3])"
      ]
     },
     "execution_count": 3,
     "metadata": {},
     "output_type": "execute_result"
    }
   ],
   "source": [
    "np.array(my_list)"
   ]
  },
  {
   "cell_type": "code",
   "execution_count": 4,
   "id": "10154ea8",
   "metadata": {},
   "outputs": [],
   "source": [
    "my_mat = [[1,2,3],[4,5,6],[7,8,9]]"
   ]
  },
  {
   "cell_type": "code",
   "execution_count": 5,
   "id": "79e8ffa0",
   "metadata": {},
   "outputs": [
    {
     "data": {
      "text/plain": [
       "array([[1, 2, 3],\n",
       "       [4, 5, 6],\n",
       "       [7, 8, 9]])"
      ]
     },
     "execution_count": 5,
     "metadata": {},
     "output_type": "execute_result"
    }
   ],
   "source": [
    "np.array(my_mat)"
   ]
  },
  {
   "cell_type": "markdown",
   "id": "ba160ea4",
   "metadata": {},
   "source": [
    "### Zeros and ones"
   ]
  },
  {
   "cell_type": "code",
   "execution_count": 16,
   "id": "dd5ea76f",
   "metadata": {},
   "outputs": [
    {
     "data": {
      "text/plain": [
       "array([[0., 0., 0., 0.],\n",
       "       [0., 0., 0., 0.],\n",
       "       [0., 0., 0., 0.],\n",
       "       [0., 0., 0., 0.]])"
      ]
     },
     "execution_count": 16,
     "metadata": {},
     "output_type": "execute_result"
    }
   ],
   "source": [
    "np.zeros((4,4))"
   ]
  },
  {
   "cell_type": "code",
   "execution_count": 20,
   "id": "5b932185",
   "metadata": {},
   "outputs": [
    {
     "data": {
      "text/plain": [
       "array([[1., 1., 1., 1., 1.],\n",
       "       [1., 1., 1., 1., 1.],\n",
       "       [1., 1., 1., 1., 1.],\n",
       "       [1., 1., 1., 1., 1.],\n",
       "       [1., 1., 1., 1., 1.]])"
      ]
     },
     "execution_count": 20,
     "metadata": {},
     "output_type": "execute_result"
    }
   ],
   "source": [
    "np.ones((5,5))"
   ]
  },
  {
   "cell_type": "markdown",
   "id": "6d235eaf",
   "metadata": {},
   "source": [
    "### Linspace and eye"
   ]
  },
  {
   "cell_type": "code",
   "execution_count": 15,
   "id": "bdcadf95",
   "metadata": {},
   "outputs": [
    {
     "data": {
      "text/plain": [
       "array([1.00000000e-02, 1.01898990e+00, 2.02797980e+00, 3.03696970e+00,\n",
       "       4.04595960e+00, 5.05494949e+00, 6.06393939e+00, 7.07292929e+00,\n",
       "       8.08191919e+00, 9.09090909e+00, 1.00998990e+01, 1.11088889e+01,\n",
       "       1.21178788e+01, 1.31268687e+01, 1.41358586e+01, 1.51448485e+01,\n",
       "       1.61538384e+01, 1.71628283e+01, 1.81718182e+01, 1.91808081e+01,\n",
       "       2.01897980e+01, 2.11987879e+01, 2.22077778e+01, 2.32167677e+01,\n",
       "       2.42257576e+01, 2.52347475e+01, 2.62437374e+01, 2.72527273e+01,\n",
       "       2.82617172e+01, 2.92707071e+01, 3.02796970e+01, 3.12886869e+01,\n",
       "       3.22976768e+01, 3.33066667e+01, 3.43156566e+01, 3.53246465e+01,\n",
       "       3.63336364e+01, 3.73426263e+01, 3.83516162e+01, 3.93606061e+01,\n",
       "       4.03695960e+01, 4.13785859e+01, 4.23875758e+01, 4.33965657e+01,\n",
       "       4.44055556e+01, 4.54145455e+01, 4.64235354e+01, 4.74325253e+01,\n",
       "       4.84415152e+01, 4.94505051e+01, 5.04594949e+01, 5.14684848e+01,\n",
       "       5.24774747e+01, 5.34864646e+01, 5.44954545e+01, 5.55044444e+01,\n",
       "       5.65134343e+01, 5.75224242e+01, 5.85314141e+01, 5.95404040e+01,\n",
       "       6.05493939e+01, 6.15583838e+01, 6.25673737e+01, 6.35763636e+01,\n",
       "       6.45853535e+01, 6.55943434e+01, 6.66033333e+01, 6.76123232e+01,\n",
       "       6.86213131e+01, 6.96303030e+01, 7.06392929e+01, 7.16482828e+01,\n",
       "       7.26572727e+01, 7.36662626e+01, 7.46752525e+01, 7.56842424e+01,\n",
       "       7.66932323e+01, 7.77022222e+01, 7.87112121e+01, 7.97202020e+01,\n",
       "       8.07291919e+01, 8.17381818e+01, 8.27471717e+01, 8.37561616e+01,\n",
       "       8.47651515e+01, 8.57741414e+01, 8.67831313e+01, 8.77921212e+01,\n",
       "       8.88011111e+01, 8.98101010e+01, 9.08190909e+01, 9.18280808e+01,\n",
       "       9.28370707e+01, 9.38460606e+01, 9.48550505e+01, 9.58640404e+01,\n",
       "       9.68730303e+01, 9.78820202e+01, 9.88910101e+01, 9.99000000e+01])"
      ]
     },
     "execution_count": 15,
     "metadata": {},
     "output_type": "execute_result"
    }
   ],
   "source": [
    "np.linspace(0.01,99.9,100)"
   ]
  },
  {
   "cell_type": "code",
   "execution_count": 17,
   "id": "7c43b70c",
   "metadata": {},
   "outputs": [
    {
     "data": {
      "text/plain": [
       "array([[1., 0., 0., 0., 0.],\n",
       "       [0., 1., 0., 0., 0.],\n",
       "       [0., 0., 1., 0., 0.],\n",
       "       [0., 0., 0., 1., 0.],\n",
       "       [0., 0., 0., 0., 1.]])"
      ]
     },
     "execution_count": 17,
     "metadata": {},
     "output_type": "execute_result"
    }
   ],
   "source": [
    "np.eye(5)"
   ]
  },
  {
   "cell_type": "markdown",
   "id": "242cbc27",
   "metadata": {},
   "source": [
    "### Rand, Randn and Randint"
   ]
  },
  {
   "cell_type": "code",
   "execution_count": 18,
   "id": "dddf8d07",
   "metadata": {},
   "outputs": [
    {
     "data": {
      "text/plain": [
       "array([[0.96301871, 0.74056356, 0.13624056, 0.86185462, 0.8512508 ],\n",
       "       [0.24390028, 0.59674445, 0.14712926, 0.51412479, 0.67717374],\n",
       "       [0.88339508, 0.10155994, 0.58877668, 0.35915864, 0.70134138],\n",
       "       [0.7471004 , 0.2581766 , 0.0845798 , 0.75086819, 0.58619206],\n",
       "       [0.38866975, 0.49665552, 0.06755896, 0.51549784, 0.13416646]])"
      ]
     },
     "execution_count": 18,
     "metadata": {},
     "output_type": "execute_result"
    }
   ],
   "source": [
    "np.random.rand(5,5)"
   ]
  },
  {
   "cell_type": "code",
   "execution_count": 21,
   "id": "d1920014",
   "metadata": {},
   "outputs": [
    {
     "data": {
      "text/plain": [
       "array([[-1.50255517,  0.90972725, -0.44135127, -0.60899814],\n",
       "       [ 0.05102794, -0.4172716 ,  0.42963455,  0.42858198],\n",
       "       [-0.58960492, -0.58486783,  2.03120277,  1.63121031],\n",
       "       [ 1.67472572, -0.37522599, -0.37556288,  0.43249388]])"
      ]
     },
     "execution_count": 21,
     "metadata": {},
     "output_type": "execute_result"
    }
   ],
   "source": [
    "np.random.randn(4,4)"
   ]
  },
  {
   "cell_type": "code",
   "execution_count": 23,
   "id": "e5603d50",
   "metadata": {},
   "outputs": [
    {
     "data": {
      "text/plain": [
       "array([  9, -12,  -3, -10,  18,  10, -10, -20, -20,   3,  18,   7,   8,\n",
       "         4,   0,   4,  11,  -2,  11, -15,  -8,  -2, -16,  14,   0,  10,\n",
       "       -10,  -5, -11,   2,  18,   5,  -4,  13,  -8,  -6,   4,  -9,  12,\n",
       "         1, -18,  -9,  17,  17, -11,   2, -13, -10, -15,  11,   7,  14,\n",
       "        11,  -7,  -7,  15,   6,  -1,  -4,  -1, -12, -18, -16,  12,  -9,\n",
       "        -7, -19,  -4,  -7, -11, -12,  14,  14,  -5,   8,  -9,  -9, -16,\n",
       "        -6, -14,  -2, -17,   3,  -9,  -1,  -9,   5,   7, -17,   0,  -4,\n",
       "        16,  14,  -7,  13,   8,  -6,  12,  -3,  -3])"
      ]
     },
     "execution_count": 23,
     "metadata": {},
     "output_type": "execute_result"
    }
   ],
   "source": [
    "np.random.randint(-20,20,100)"
   ]
  },
  {
   "cell_type": "code",
   "execution_count": 54,
   "id": "9c9a1eb0",
   "metadata": {},
   "outputs": [],
   "source": [
    "arr = np.arange(25)\n",
    "ranarr = np.random.randint(0,50,10)"
   ]
  },
  {
   "cell_type": "code",
   "execution_count": 55,
   "id": "a5d24822",
   "metadata": {},
   "outputs": [
    {
     "data": {
      "text/plain": [
       "array([ 0,  1,  2,  3,  4,  5,  6,  7,  8,  9, 10, 11, 12, 13, 14, 15, 16,\n",
       "       17, 18, 19, 20, 21, 22, 23, 24])"
      ]
     },
     "execution_count": 55,
     "metadata": {},
     "output_type": "execute_result"
    }
   ],
   "source": [
    "arr"
   ]
  },
  {
   "cell_type": "markdown",
   "id": "0141019e",
   "metadata": {},
   "source": [
    "### Reshape, max, min and their position"
   ]
  },
  {
   "cell_type": "code",
   "execution_count": 56,
   "id": "14b103b8",
   "metadata": {},
   "outputs": [
    {
     "data": {
      "text/plain": [
       "array([[ 0,  1,  2,  3,  4],\n",
       "       [ 5,  6,  7,  8,  9],\n",
       "       [10, 11, 12, 13, 14],\n",
       "       [15, 16, 17, 18, 19],\n",
       "       [20, 21, 22, 23, 24]])"
      ]
     },
     "execution_count": 56,
     "metadata": {},
     "output_type": "execute_result"
    }
   ],
   "source": [
    "arr = arr.reshape(5,5)\n",
    "arr"
   ]
  },
  {
   "cell_type": "code",
   "execution_count": 57,
   "id": "0a7e8513",
   "metadata": {},
   "outputs": [
    {
     "data": {
      "text/plain": [
       "array([ 3, 14, 12, 41, 29,  0, 19, 33, 30, 35])"
      ]
     },
     "execution_count": 57,
     "metadata": {},
     "output_type": "execute_result"
    }
   ],
   "source": [
    "ranarr"
   ]
  },
  {
   "cell_type": "code",
   "execution_count": 58,
   "id": "17df1a94",
   "metadata": {},
   "outputs": [
    {
     "data": {
      "text/plain": [
       "41"
      ]
     },
     "execution_count": 58,
     "metadata": {},
     "output_type": "execute_result"
    }
   ],
   "source": [
    "ranarr.max()"
   ]
  },
  {
   "cell_type": "code",
   "execution_count": 59,
   "id": "6073bc95",
   "metadata": {},
   "outputs": [
    {
     "data": {
      "text/plain": [
       "0"
      ]
     },
     "execution_count": 59,
     "metadata": {},
     "output_type": "execute_result"
    }
   ],
   "source": [
    "ranarr.min()"
   ]
  },
  {
   "cell_type": "code",
   "execution_count": 60,
   "id": "1d4cd0ec",
   "metadata": {},
   "outputs": [
    {
     "data": {
      "text/plain": [
       "3"
      ]
     },
     "execution_count": 60,
     "metadata": {},
     "output_type": "execute_result"
    }
   ],
   "source": [
    "ranarr.argmax()"
   ]
  },
  {
   "cell_type": "code",
   "execution_count": 61,
   "id": "9f72e0a1",
   "metadata": {},
   "outputs": [
    {
     "data": {
      "text/plain": [
       "5"
      ]
     },
     "execution_count": 61,
     "metadata": {},
     "output_type": "execute_result"
    }
   ],
   "source": [
    "ranarr.argmin()"
   ]
  },
  {
   "cell_type": "code",
   "execution_count": 62,
   "id": "19c6b60d",
   "metadata": {},
   "outputs": [
    {
     "data": {
      "text/plain": [
       "(5, 5)"
      ]
     },
     "execution_count": 62,
     "metadata": {},
     "output_type": "execute_result"
    }
   ],
   "source": [
    "arr.shape"
   ]
  },
  {
   "cell_type": "code",
   "execution_count": 64,
   "id": "6292990a",
   "metadata": {},
   "outputs": [
    {
     "data": {
      "text/plain": [
       "array([ 0,  1,  2,  3,  4,  5,  6,  7,  8,  9, 10, 11, 12, 13, 14, 15, 16,\n",
       "       17, 18, 19, 20, 21, 22, 23, 24])"
      ]
     },
     "execution_count": 64,
     "metadata": {},
     "output_type": "execute_result"
    }
   ],
   "source": [
    "arr = arr.reshape(25)\n",
    "arr"
   ]
  },
  {
   "cell_type": "code",
   "execution_count": 65,
   "id": "4a2810a7",
   "metadata": {},
   "outputs": [
    {
     "data": {
      "text/plain": [
       "(25,)"
      ]
     },
     "execution_count": 65,
     "metadata": {},
     "output_type": "execute_result"
    }
   ],
   "source": [
    "arr.shape"
   ]
  },
  {
   "cell_type": "code",
   "execution_count": null,
   "id": "088ffd82",
   "metadata": {},
   "outputs": [],
   "source": []
  }
 ],
 "metadata": {
  "kernelspec": {
   "display_name": "Python 3 (ipykernel)",
   "language": "python",
   "name": "python3"
  },
  "language_info": {
   "codemirror_mode": {
    "name": "ipython",
    "version": 3
   },
   "file_extension": ".py",
   "mimetype": "text/x-python",
   "name": "python",
   "nbconvert_exporter": "python",
   "pygments_lexer": "ipython3",
   "version": "3.10.9"
  }
 },
 "nbformat": 4,
 "nbformat_minor": 5
}
